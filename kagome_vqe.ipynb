{
 "cells": [
  {
   "cell_type": "markdown",
   "metadata": {},
   "source": [
    "# VQE for Kagome Antiferromagnetic Heisenberg Model"
   ]
  },
  {
   "cell_type": "code",
   "execution_count": 1,
   "metadata": {},
   "outputs": [],
   "source": [
    "import numpy as np\n",
    "from qiskit import QuantumCircuit\n",
    "from qiskit.circuit import ParameterVector\n",
    "from qiskit.quantum_info import SparsePauliOp, Statevector, Pauli\n",
    "from qiskit_aer import AerSimulator\n",
    "from scipy.optimize import minimize\n",
    "import matplotlib.pyplot as plt\n",
    "from scipy.sparse.linalg import LinearOperator, eigsh\n"
   ]
  },
  {
   "cell_type": "code",
   "execution_count": 2,
   "metadata": {},
   "outputs": [],
   "source": [
    "# ======= COLORING SUBGRAPHS (논문 Fig.2 기반, 2x4 예시) =======\n",
    "coloring_subgraphs = [\n",
    "    [(0,1),(2,3),(4,5),(6,7)],        # subgraph 1: horizontal\n",
    "    [(0,4),(1,5),(2,6),(3,7)],        # subgraph 2: vertical\n",
    "    [(1,4),(2,5),(3,6)],              # subgraph 3: diagonal (예시, 실제 논문에 맞게 더 추가!)\n",
    "    # subgraph 4, 5 필요하면 추가!\n",
    "]\n"
   ]
  },
  {
   "cell_type": "markdown",
   "metadata": {},
   "source": [
    "# 1. Define Kagome configuration"
   ]
  },
  {
   "cell_type": "code",
   "execution_count": 3,
   "metadata": {},
   "outputs": [],
   "source": [
    "def kagome_patch(rows, cols):\n",
    "    coords = {}\n",
    "    edges = []\n",
    "    for r in range(rows):\n",
    "        for c in range(cols):\n",
    "            idx = r * cols + c\n",
    "            coords[idx] = (c, r)\n",
    "    for r in range(rows):\n",
    "        for c in range(cols - 1):\n",
    "            i = r * cols + c\n",
    "            j = i + 1\n",
    "            edges.append((i, j))\n",
    "    for r in range(rows - 1):\n",
    "        for c in range(cols - 1):\n",
    "            a = r * cols + c + 1\n",
    "            b = (r + 1) * cols + c\n",
    "            edges.append((a, b))\n",
    "    for r in range(rows - 1):\n",
    "        for c in range(cols - 1):\n",
    "            a = r * cols + c\n",
    "            b = (r + 1) * cols + c + 1\n",
    "            edges.append((a, b))\n",
    "    return edges, coords\n",
    "\n",
    "def initial_matching():\n",
    "    return [(0,1),(2,3),(4,5),(6,7)]  # for 2x4"
   ]
  },
  {
   "cell_type": "markdown",
   "metadata": {},
   "source": [
    "# 2. Prepare initial state"
   ]
  },
  {
   "cell_type": "code",
   "execution_count": 4,
   "metadata": {},
   "outputs": [],
   "source": [
    "def prepare_singlet_state(num_qubits, matching):\n",
    "    qc = QuantumCircuit(num_qubits)\n",
    "    for k, l in matching:\n",
    "        qc.h(k)\n",
    "        qc.cx(k, l)\n",
    "        qc.x(l)\n",
    "        qc.z(k)\n",
    "    return qc\n",
    "\n",
    "def prepare_spin_flip_state(num_qubits, matching):\n",
    "    qc = QuantumCircuit(num_qubits)\n",
    "    for k, l in matching:\n",
    "        qc.h(k)\n",
    "        qc.cx(k, l)\n",
    "        qc.x(l)\n",
    "        qc.z(k)\n",
    "    qc.x(0)\n",
    "    return qc"
   ]
  },
  {
   "cell_type": "markdown",
   "metadata": {},
   "source": [
    "# 3. Define Hamiltonian"
   ]
  },
  {
   "cell_type": "code",
   "execution_count": 5,
   "metadata": {},
   "outputs": [],
   "source": [
    "def build_hamiltonian(num_qubits, edges):\n",
    "    paulis = []\n",
    "    for i, j in edges:\n",
    "        for term in ('XX','YY','ZZ'):\n",
    "            label = ['I'] * num_qubits\n",
    "            label[i], label[j] = term[0], term[1]\n",
    "            paulis.append((''.join(label), 1.0))\n",
    "    return SparsePauliOp.from_list(paulis, num_qubits=num_qubits)\n"
   ]
  },
  {
   "cell_type": "markdown",
   "metadata": {},
   "source": [
    "# 4. Build ansatz families"
   ]
  },
  {
   "cell_type": "code",
   "execution_count": 6,
   "metadata": {},
   "outputs": [],
   "source": [
    "# ======= ANSATZ FAMILIES =======\n",
    "\n",
    "def per_hamiltonian_ansatz(layers):\n",
    "    # shared param for H0, shared param for H\n",
    "    rows, cols = 2, 4\n",
    "    num_qubits = rows * cols\n",
    "    edges, _ = kagome_patch(rows, cols)\n",
    "    H0_edges = initial_matching()\n",
    "    theta_params = ParameterVector('theta', 2*layers)\n",
    "    qc = QuantumCircuit(num_qubits)\n",
    "    qc.compose(prepare_singlet_state(num_qubits, H0_edges), inplace=True)\n",
    "    for l in range(layers):\n",
    "        theta0 = theta_params[2*l]\n",
    "        for (k, m) in H0_edges:\n",
    "            qc.rxx(2*theta0, k, m)\n",
    "            qc.ryy(2*theta0, k, m)\n",
    "            qc.rzz(2*theta0, k, m)\n",
    "        theta1 = theta_params[2*l+1]\n",
    "        for (i, j) in edges:\n",
    "            qc.rxx(2*theta1, i, j)\n",
    "            qc.ryy(2*theta1, i, j)\n",
    "            qc.rzz(2*theta1, i, j)\n",
    "    return qc, theta_params\n",
    "\n",
    "def per_edge_ansatz(layers):\n",
    "    # every edge, every layer has its own parameter\n",
    "    rows, cols = 2, 4\n",
    "    num_qubits = rows * cols\n",
    "    edges, _ = kagome_patch(rows, cols)\n",
    "    H0_edges = initial_matching()\n",
    "    total_params = layers * (1 + len(edges))\n",
    "    theta_params = ParameterVector('theta', total_params)\n",
    "    qc = QuantumCircuit(num_qubits)\n",
    "    qc.compose(prepare_singlet_state(num_qubits, H0_edges), inplace=True)\n",
    "    idx = 0\n",
    "    for _ in range(layers):\n",
    "        theta0 = theta_params[idx]\n",
    "        for (k, l) in H0_edges:\n",
    "            qc.rxx(2*theta0, k, l)\n",
    "            qc.ryy(2*theta0, k, l)\n",
    "            qc.rzz(2*theta0, k, l)\n",
    "        idx += 1\n",
    "        for (i, j) in edges:\n",
    "            theta_e = theta_params[idx]\n",
    "            qc.rxx(2*theta_e, i, j)\n",
    "            qc.ryy(2*theta_e, i, j)\n",
    "            qc.rzz(2*theta_e, i, j)\n",
    "            idx += 1\n",
    "    return qc, theta_params\n",
    "\n",
    "def per_edge_color_ansatz(layers):\n",
    "    # Each coloring (subgraph) has one shared parameter per layer\n",
    "    rows, cols = 2, 4\n",
    "    num_qubits = rows * cols\n",
    "    num_colors = len(coloring_subgraphs)\n",
    "    theta_params = ParameterVector('theta', layers * num_colors)\n",
    "    qc = QuantumCircuit(num_qubits)\n",
    "    qc.compose(prepare_singlet_state(num_qubits, initial_matching()), inplace=True)\n",
    "    for l in range(layers):\n",
    "        for c, subg in enumerate(coloring_subgraphs):\n",
    "            theta = theta_params[l*num_colors + c]\n",
    "            for (i, j) in subg:\n",
    "                qc.rxx(2*theta, i, j)\n",
    "                qc.ryy(2*theta, i, j)\n",
    "                qc.rzz(2*theta, i, j)\n",
    "    return qc, theta_params\n",
    "\n",
    "def per_edge_color_ii_ansatz(layers):\n",
    "    # 보조자료의 또다른 coloring, 예시로 위와 동일하게 둠\n",
    "    return per_edge_color_ansatz(layers)"
   ]
  },
  {
   "cell_type": "markdown",
   "metadata": {},
   "source": [
    "# 5. Find ground state"
   ]
  },
  {
   "cell_type": "code",
   "execution_count": 7,
   "metadata": {},
   "outputs": [],
   "source": [
    "# ======= VQE, MEASUREMENT, ETC. =======\n",
    "\n",
    "def expectation(theta_params, ansatz, H_op):\n",
    "    param_dict = dict(zip(ansatz.parameters, theta_params))\n",
    "    qc_assigned = ansatz.assign_parameters(param_dict)\n",
    "    sv = Statevector.from_instruction(qc_assigned)\n",
    "    expval = 0.0\n",
    "    for label, coeff in H_op.to_list():\n",
    "        expval += coeff * sv.expectation_value(Pauli(label))\n",
    "    return float(np.real(expval))\n",
    "\n",
    "def exact_ground_state(num_qubits, edges):\n",
    "    H_op = build_hamiltonian(num_qubits, edges)\n",
    "    dim = 2**num_qubits\n",
    "    term_list = H_op.to_list()\n",
    "    def apply_pauli(label: str, v: np.ndarray) -> np.ndarray:\n",
    "        n = len(label)\n",
    "        out = np.zeros_like(v)\n",
    "        N = v.size\n",
    "        for idx in range(N):\n",
    "            amp = v[idx]\n",
    "            phase = 1\n",
    "            flipped = idx\n",
    "            for q in range(n):\n",
    "                p = label[n-1-q]\n",
    "                bit = (idx >> q) & 1\n",
    "                if p == 'I':\n",
    "                    continue\n",
    "                elif p == 'X':\n",
    "                    flipped ^= (1 << q)\n",
    "                elif p == 'Y':\n",
    "                    phase *= (1j if bit == 0 else -1j)\n",
    "                    flipped ^= (1 << q)\n",
    "                elif p == 'Z':\n",
    "                    if bit == 1:\n",
    "                        phase *= -1\n",
    "                else:\n",
    "                    raise ValueError(f\"Unknown Pauli {p}\")\n",
    "            out[flipped] += phase * amp\n",
    "        return out\n",
    "    def mv(v):\n",
    "        out = np.zeros_like(v)\n",
    "        for label, c in term_list:\n",
    "            out += c * apply_pauli(label, v)\n",
    "        return out\n",
    "    H_linop = LinearOperator((dim, dim), matvec=mv, dtype=complex)\n",
    "    vals, vecs = eigsh(H_linop, k=1, which='SA')\n",
    "    return vecs[:, 0]"
   ]
  },
  {
   "cell_type": "markdown",
   "metadata": {},
   "source": [
    "## Run"
   ]
  },
  {
   "cell_type": "code",
   "execution_count": null,
   "metadata": {},
   "outputs": [
    {
     "ename": "TypeError",
     "evalue": "Estimator.__init__() takes 1 positional argument but 2 were given",
     "output_type": "error",
     "traceback": [
      "\u001b[31m---------------------------------------------------------------------------\u001b[39m",
      "\u001b[31mTypeError\u001b[39m                                 Traceback (most recent call last)",
      "\u001b[36mCell\u001b[39m\u001b[36m \u001b[39m\u001b[32mIn[16]\u001b[39m\u001b[32m, line 2\u001b[39m\n\u001b[32m      1\u001b[39m backend = AerSimulator(method=\u001b[33m'\u001b[39m\u001b[33mstatevector\u001b[39m\u001b[33m'\u001b[39m)\n\u001b[32m----> \u001b[39m\u001b[32m2\u001b[39m estimator = \u001b[43mEstimator\u001b[49m\u001b[43m(\u001b[49m\u001b[43mbackend\u001b[49m\u001b[43m)\u001b[49m\n",
      "\u001b[31mTypeError\u001b[39m: Estimator.__init__() takes 1 positional argument but 2 were given"
     ]
    }
   ],
   "source": [
    "QiskitRuntimeService.save_account(\n",
    "    channel='ibm_cloud',\n",
    "    token='fQZ9Od-7ELw2Hx8N6TssYIZGdX7sbRYf6zkj08tlJrDI'\n",
    "    instance=''\n",
    "    overwrite= True\n",
    ")\n",
    "\n",
    "service = QiskitRuntimeService()\n",
    "print(service.backends())"
   ]
  },
  {
   "cell_type": "markdown",
   "metadata": {},
   "source": [
    "***"
   ]
  },
  {
   "cell_type": "markdown",
   "metadata": {},
   "source": [
    "## Reproduce Fig. 5"
   ]
  },
  {
   "cell_type": "code",
   "execution_count": 8,
   "metadata": {},
   "outputs": [],
   "source": [
    "def infidelity(psi_vqe, psi_exact):\n",
    "    ov = np.vdot(psi_exact, psi_vqe)\n",
    "    return 1 - abs(ov)**2\n",
    "\n",
    "def get_statevector(ansatz, params):\n",
    "    param_dict = dict(zip(ansatz.parameters, params))\n",
    "    qc_assigned = ansatz.assign_parameters(param_dict)\n",
    "    sv = Statevector.from_instruction(qc_assigned)\n",
    "    return sv.data"
   ]
  },
  {
   "cell_type": "code",
   "execution_count": 9,
   "metadata": {},
   "outputs": [],
   "source": [
    "def run_vqe(num_qubits, edges, layers, factory, sector='singlet'):\n",
    "    H = build_hamiltonian(num_qubits, edges)\n",
    "    ansatz, theta_params = factory(layers)\n",
    "    init_params = np.random.uniform(0, 2*np.pi, len(theta_params))\n",
    "    res = minimize(lambda x: expectation(x, ansatz, H), init_params, method='COBYLA', options={'maxiter':100})\n",
    "    return res.fun, res.x\n",
    "\n",
    "def compute_spin_gap(num_qubits, edges, layers, factory):\n",
    "    H = build_hamiltonian(num_qubits, edges)\n",
    "    ansatz_singlet, params_singlet = factory(layers)\n",
    "    init_s = np.random.uniform(0, 2*np.pi, len(params_singlet))\n",
    "    res_s = minimize(lambda x: expectation(x, ansatz_singlet, H), init_s, method='COBYLA', options={'maxiter':100})\n",
    "    E0 = res_s.fun\n",
    "    ansatz_sz1, params_sz1 = per_edge_ansatz(layers)\n",
    "    init_1 = np.random.uniform(0, 2*np.pi, len(params_sz1))\n",
    "    res_1 = minimize(lambda x: expectation(x, ansatz_sz1, H), init_1, method='COBYLA', options={'maxiter':100})\n",
    "    E1 = res_1.fun\n",
    "    return E1 - E0"
   ]
  },
  {
   "cell_type": "code",
   "execution_count": 10,
   "metadata": {},
   "outputs": [],
   "source": [
    "def reproduce_fig5(layers_max=2, seeds=2):\n",
    "    rows, cols = 2, 4\n",
    "    num_qubits = rows * cols\n",
    "    edges, _ = kagome_patch(rows, cols)\n",
    "    psi0 = exact_ground_state(num_qubits, edges)\n",
    "    factories = {\n",
    "        'per hamiltonian': per_hamiltonian_ansatz,\n",
    "        'per edge color': per_edge_color_ansatz,\n",
    "        'per edge color ii': per_edge_color_ii_ansatz,\n",
    "        'per edge': per_edge_ansatz\n",
    "    }\n",
    "    results = {name: {'p': [], 'mean': [], 'std': []} for name in factories}\n",
    "    H = build_hamiltonian(num_qubits, edges)\n",
    "    for name, factory in factories.items():\n",
    "        for p in range(1, layers_max+1):\n",
    "            vals = []\n",
    "            for seed in range(seeds):\n",
    "                np.random.seed(seed)\n",
    "                qc, params = factory(p)\n",
    "                init = np.random.uniform(0, 1/p, len(params))\n",
    "                res = minimize(lambda x: expectation(x, qc, H), init, method='COBYLA', options={'maxiter':100})\n",
    "                psi_vqe = get_statevector(qc, res.x)\n",
    "                vals.append(infidelity(psi_vqe, psi0))\n",
    "            results[name]['p'].append(p)\n",
    "            results[name]['mean'].append(np.mean(vals))\n",
    "            results[name]['std'].append(np.std(vals))\n",
    "    markers = {'per hamiltonian':'D','per edge color':'o','per edge color ii':'v','per edge':'s'}\n",
    "    colors = {'per hamiltonian':'tab:blue','per edge color':'tab:orange','per edge color ii':'tab:green','per edge':'tab:red'}\n",
    "    plt.figure()\n",
    "    for name, data in results.items():\n",
    "        if not data['p'] or all([np.isnan(m) or m == 0 for m in data['mean']]):\n",
    "            continue\n",
    "        plt.errorbar(data['p'], data['mean'], yerr=data['std'], label=name,\n",
    "            marker=markers.get(name,'o'), color=colors.get(name,None),\n",
    "            capsize=4, linestyle='-')\n",
    "    plt.yscale('log')\n",
    "    plt.xlabel('HV layers p')\n",
    "    plt.ylabel('Infidelity')\n",
    "    plt.legend()\n",
    "    plt.title('Fig.5 reproduction: 2x4 Kagome patch')\n",
    "    plt.tight_layout()\n",
    "    plt.show()"
   ]
  },
  {
   "cell_type": "code",
   "execution_count": 11,
   "metadata": {},
   "outputs": [],
   "source": [
    "def reproduce_fig6(layers_max=2, seeds=2):\n",
    "    rows, cols = 2, 4\n",
    "    num_qubits = rows * cols\n",
    "    edges, _ = kagome_patch(rows, cols)\n",
    "    factories = {\n",
    "        'per hamiltonian': per_hamiltonian_ansatz,\n",
    "        'per edge color': per_edge_color_ansatz,\n",
    "        'per edge color ii': per_edge_color_ii_ansatz,\n",
    "        'per edge': per_edge_ansatz\n",
    "    }\n",
    "    results = {name: {'p': [], 'mean': [], 'std': []} for name in factories}\n",
    "    for name, factory in factories.items():\n",
    "        for p in range(1, layers_max+1):\n",
    "            vals = []\n",
    "            for seed in range(seeds):\n",
    "                np.random.seed(seed)\n",
    "                gap = compute_spin_gap(num_qubits, edges, p, factory)\n",
    "                vals.append(gap)\n",
    "            results[name]['p'].append(p)\n",
    "            results[name]['mean'].append(np.mean(vals))\n",
    "            results[name]['std'].append(np.std(vals))\n",
    "    plt.figure()\n",
    "    for name, data in results.items():\n",
    "        plt.errorbar(data['p'], data['mean'], yerr=data['std'], label=name)\n",
    "    plt.xlabel('HV layers p')\n",
    "    plt.ylabel('Spin gap')\n",
    "    plt.legend()\n",
    "    plt.title('Fig.6 reproduction: 2x4 Kagome patch')\n",
    "    plt.tight_layout()\n",
    "    plt.show()"
   ]
  },
  {
   "cell_type": "code",
   "execution_count": 12,
   "metadata": {},
   "outputs": [
    {
     "name": "stderr",
     "output_type": "stream",
     "text": [
      "/opt/anaconda3/envs/qiskit/lib/python3.11/site-packages/scipy/_lib/pyprima/common/preproc.py:68: UserWarning: COBYLA: Invalid MAXFUN; it should be at least num_vars + 2; it is set to 106\n",
      "  warn(f'{solver}: Invalid MAXFUN; it should be at least {min_maxfun_str}; it is set to {maxfun}')\n"
     ]
    },
    {
     "data": {
      "image/png": "[encoded data removed]",
      "text/plain": [
       "<Figure size 640x480 with 1 Axes>"
      ]
     },
     "metadata": {},
     "output_type": "display_data"
    }
   ],
   "source": [
    "reproduce_fig5(layers_max=8, seeds=10)"
   ]
  }
 ],
 "metadata": {
  "kernelspec": {
   "display_name": "qiskit",
   "language": "python",
   "name": "python3"
  },
  "language_info": {
   "codemirror_mode": {
    "name": "ipython",
    "version": 3
   },
   "file_extension": ".py",
   "mimetype": "text/x-python",
   "name": "python",
   "nbconvert_exporter": "python",
   "pygments_lexer": "ipython3",
   "version": "3.11.11"
  }
 },
 "nbformat": 4,
 "nbformat_minor": 4
}
